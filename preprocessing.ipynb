{
 "cells": [
  {
   "cell_type": "code",
   "execution_count": null,
   "metadata": {},
   "outputs": [],
   "source": [
    "import numpy as np\n",
    "import pandas as pd\n",
    "import pyarrow.parquet as pq\n",
    "import matplotlib as plt\n",
    "import gc\n",
    "import psutil"
   ]
  },
  {
   "cell_type": "markdown",
   "metadata": {},
   "source": [
    "import Parquet files, convert to Pandas Dataframe, and merge into one file, for ease of exploratory analysis and cleaning"
   ]
  },
  {
   "cell_type": "code",
   "execution_count": null,
   "metadata": {},
   "outputs": [],
   "source": [
    "# y_2023_01 = pq.read_table('./raw_data/yellow_tripdata_2023-01.parquet')\n",
    "# y_2023_01 = y_2023_01.to_pandas()\n",
    "# y_2023_02 = pq.read_table('./raw_data/yellow_tripdata_2023-02.parquet')\n",
    "# y_2023_02 = y_2023_02.to_pandas()\n",
    "# y_2023_03 = pq.read_table('./raw_data/yellow_tripdata_2023-03.parquet')\n",
    "# y_2023_03 = y_2023_03.to_pandas()\n",
    "# y_2023_04 = pq.read_table('./raw_data/yellow_tripdata_2023-04.parquet')\n",
    "# y_2023_04 = y_2023_04.to_pandas()\n",
    "# y_2023_05 = pq.read_table('./raw_data/yellow_tripdata_2023-05.parquet')\n",
    "# y_2023_05 = y_2023_05.to_pandas()\n",
    "# y_2023_06 = pq.read_table('./raw_data/yellow_tripdata_2023-06.parquet')\n",
    "# y_2023_06 = y_2023_06.to_pandas()\n",
    "\n",
    "def get_memory_usage():\n",
    "    process = psutil.Process()\n",
    "    mem_info = process.memory_info()\n",
    "    return mem_info.rss / (1024 ** 3)  # Return memory usage in GB\n",
    "\n",
    "print(f\"Initial memory usage: {get_memory_usage():.2f} GB\")\n",
    "\n",
    "y_2023 = pq.read_table('./raw_data/yellow_tripdata_2023-01.parquet')\n",
    "y_2023 = y_2023.to_pandas()\n",
    "\n",
    "print(f\"Memory usage after 1 file: {get_memory_usage():.2f} GB\")\n",
    "\n",
    "y_2023_02 = pq.read_table('./raw_data/yellow_tripdata_2023-02.parquet')\n",
    "y_2023_03 = pq.read_table('./raw_data/yellow_tripdata_2023-03.parquet')\n",
    "y_2023_04 = pq.read_table('./raw_data/yellow_tripdata_2023-04.parquet')\n",
    "y_2023_05 = pq.read_table('./raw_data/yellow_tripdata_2023-05.parquet')\n",
    "y_2023_06 = pq.read_table('./raw_data/yellow_tripdata_2023-06.parquet')\n",
    "y_2023_02 = y_2023_02.to_pandas()\n",
    "y_2023_03 = y_2023_03.to_pandas()\n",
    "y_2023_04 = y_2023_04.to_pandas()\n",
    "y_2023_05 = y_2023_05.to_pandas()\n",
    "y_2023_06 = y_2023_06.to_pandas()\n",
    "y_2023 = pd.concat([y_2023, y_2023_02, y_2023_03, y_2023_04, y_2023_05, y_2023_06], axis = 0)\n",
    "\n",
    "print(f\"Memory usage after 6 files and concat: {get_memory_usage():.2f} GB\")\n",
    "\n",
    "del y_2023_02\n",
    "del y_2023_03\n",
    "del y_2023_04\n",
    "del y_2023_05\n",
    "del y_2023_06\n",
    "\n",
    "print(f\"Memory usage after deleting dataframes: {get_memory_usage():.2f} GB\")\n",
    "\n",
    "gc.collect()\n",
    "\n",
    "print(f\"Memory usage after garbage collection: {get_memory_usage():.2f} GB\")\n",
    "\n",
    "# y_2023_07 = pq.read_table('./raw_data/yellow_tripdata_2023-07.parquet')\n",
    "# y_2023_07 = y_2023_07.to_pandas()\n",
    "# y_2023 = pd.concat([y_2023, y_2023_07], axis=0)\n",
    "# del y_2023_07\n",
    "# gc.collect()\n",
    "\n",
    "\n",
    "\n",
    "# y_2023 = pd.concat([y_2023_01, y_2023_02, y_2023_03, y_2023_04, y_2023_05, y_2023_06], axis=0)"
   ]
  },
  {
   "cell_type": "code",
   "execution_count": null,
   "metadata": {},
   "outputs": [],
   "source": [
    "y_2023.info()"
   ]
  },
  {
   "cell_type": "code",
   "execution_count": null,
   "metadata": {},
   "outputs": [],
   "source": []
  }
 ],
 "metadata": {
  "kernelspec": {
   "display_name": "base",
   "language": "python",
   "name": "python3"
  },
  "language_info": {
   "codemirror_mode": {
    "name": "ipython",
    "version": 3
   },
   "file_extension": ".py",
   "mimetype": "text/x-python",
   "name": "python",
   "nbconvert_exporter": "python",
   "pygments_lexer": "ipython3",
   "version": "3.11.7"
  }
 },
 "nbformat": 4,
 "nbformat_minor": 2
}
