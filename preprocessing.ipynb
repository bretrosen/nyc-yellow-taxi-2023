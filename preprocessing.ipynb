{
 "cells": [
  {
   "cell_type": "code",
   "execution_count": 1,
   "metadata": {},
   "outputs": [],
   "source": [
    "import pandas as pd\n",
    "import pyarrow.parquet as pq\n",
    "import psutil\n",
    "import matplotlib.pyplot as plt\n",
    "import gc"
   ]
  },
  {
   "cell_type": "code",
   "execution_count": 2,
   "metadata": {},
   "outputs": [
    {
     "name": "stdout",
     "output_type": "stream",
     "text": [
      "Initial memory usage: 0.19 GB\n",
      "memory usage after read: 4.86 GB\n"
     ]
    }
   ],
   "source": [
    "def get_memory_usage():\n",
    "    process = psutil.Process()\n",
    "    mem_info = process.memory_info()\n",
    "    return mem_info.rss / (1024 ** 3)  # Return memory usage in GB\n",
    "\n",
    "print(f\"Initial memory usage: {get_memory_usage():.2f} GB\")\n",
    "\n",
    "y_2023 = pq.read_table('./raw_data/y_2023.parquet').to_pandas()\n",
    "\n",
    "print(f\"memory usage after read: {get_memory_usage():.2f} GB\")"
   ]
  },
  {
   "cell_type": "code",
   "execution_count": 3,
   "metadata": {},
   "outputs": [
    {
     "name": "stdout",
     "output_type": "stream",
     "text": [
      "<class 'pandas.core.frame.DataFrame'>\n",
      "RangeIndex: 38310226 entries, 0 to 38310225\n",
      "Data columns (total 20 columns):\n",
      " #   Column                 Dtype         \n",
      "---  ------                 -----         \n",
      " 0   VendorID               int64         \n",
      " 1   tpep_pickup_datetime   datetime64[us]\n",
      " 2   tpep_dropoff_datetime  datetime64[us]\n",
      " 3   passenger_count        float64       \n",
      " 4   trip_distance          float64       \n",
      " 5   RatecodeID             float64       \n",
      " 6   store_and_fwd_flag     object        \n",
      " 7   PULocationID           int64         \n",
      " 8   DOLocationID           int64         \n",
      " 9   payment_type           int64         \n",
      " 10  fare_amount            float64       \n",
      " 11  extra                  float64       \n",
      " 12  mta_tax                float64       \n",
      " 13  tip_amount             float64       \n",
      " 14  tolls_amount           float64       \n",
      " 15  improvement_surcharge  float64       \n",
      " 16  total_amount           float64       \n",
      " 17  congestion_surcharge   float64       \n",
      " 18  airport_fee            float64       \n",
      " 19  Airport_fee            float64       \n",
      "dtypes: datetime64[us](2), float64(13), int64(4), object(1)\n",
      "memory usage: 5.7+ GB\n"
     ]
    }
   ],
   "source": [
    "y_2023.info()"
   ]
  },
  {
   "cell_type": "markdown",
   "metadata": {},
   "source": [
    "We won't use the vendor ID, store and forward flag, extra, mta tax, improvement surcharge, congestion surcharge, and airport fee columns, so let's remove those."
   ]
  },
  {
   "cell_type": "code",
   "execution_count": 4,
   "metadata": {},
   "outputs": [
    {
     "name": "stdout",
     "output_type": "stream",
     "text": [
      "memory usage after column deletions: 2.55 GB\n",
      "memory usage after garbage collection: 2.62 GB\n"
     ]
    }
   ],
   "source": [
    "for column in ['VendorID', 'store_and_fwd_flag', 'extra', 'mta_tax', 'improvement_surcharge', 'congestion_surcharge', 'airport_fee', 'Airport_fee']:\n",
    "    del y_2023[column]\n",
    "print(f\"memory usage after column deletions: {get_memory_usage():.2f} GB\")\n",
    "gc.collect()\n",
    "print(f\"memory usage after garbage collection: {get_memory_usage():.2f} GB\")"
   ]
  },
  {
   "cell_type": "markdown",
   "metadata": {},
   "source": [
    "We can reduce memory usage by changing our integer and float columns from 64 to 32 bit."
   ]
  },
  {
   "cell_type": "code",
   "execution_count": 5,
   "metadata": {},
   "outputs": [
    {
     "name": "stdout",
     "output_type": "stream",
     "text": [
      "<class 'pandas.core.frame.DataFrame'>\n",
      "RangeIndex: 38310226 entries, 0 to 38310225\n",
      "Data columns (total 12 columns):\n",
      " #   Column                 Dtype         \n",
      "---  ------                 -----         \n",
      " 0   tpep_pickup_datetime   datetime64[us]\n",
      " 1   tpep_dropoff_datetime  datetime64[us]\n",
      " 2   passenger_count        float64       \n",
      " 3   trip_distance          float64       \n",
      " 4   RatecodeID             float64       \n",
      " 5   PULocationID           int32         \n",
      " 6   DOLocationID           int32         \n",
      " 7   payment_type           int32         \n",
      " 8   fare_amount            float64       \n",
      " 9   tip_amount             float64       \n",
      " 10  tolls_amount           float64       \n",
      " 11  total_amount           float64       \n",
      "dtypes: datetime64[us](2), float64(7), int32(3)\n",
      "memory usage: 3.0 GB\n"
     ]
    }
   ],
   "source": [
    "y_2023['PULocationID'] = y_2023['PULocationID'].astype('int32')\n",
    "y_2023['DOLocationID'] = y_2023['DOLocationID'].astype('int32')\n",
    "y_2023['payment_type'] = y_2023['payment_type'].astype('int32')\n",
    "y_2023.info()"
   ]
  },
  {
   "cell_type": "code",
   "execution_count": 6,
   "metadata": {},
   "outputs": [
    {
     "name": "stdout",
     "output_type": "stream",
     "text": [
      "<class 'pandas.core.frame.DataFrame'>\n",
      "RangeIndex: 38310226 entries, 0 to 38310225\n",
      "Data columns (total 12 columns):\n",
      " #   Column                 Dtype         \n",
      "---  ------                 -----         \n",
      " 0   tpep_pickup_datetime   datetime64[us]\n",
      " 1   tpep_dropoff_datetime  datetime64[us]\n",
      " 2   passenger_count        float32       \n",
      " 3   trip_distance          float32       \n",
      " 4   RatecodeID             float32       \n",
      " 5   PULocationID           int32         \n",
      " 6   DOLocationID           int32         \n",
      " 7   payment_type           int32         \n",
      " 8   fare_amount            float32       \n",
      " 9   tip_amount             float32       \n",
      " 10  tolls_amount           float32       \n",
      " 11  total_amount           float32       \n",
      "dtypes: datetime64[us](2), float32(7), int32(3)\n",
      "memory usage: 2.0 GB\n"
     ]
    }
   ],
   "source": [
    "y_2023['passenger_count'] = y_2023['passenger_count'].astype('float32')\n",
    "y_2023['trip_distance'] = y_2023['trip_distance'].astype('float32')\n",
    "y_2023['RatecodeID'] = y_2023['RatecodeID'].astype('float32')\n",
    "y_2023['fare_amount'] = y_2023['fare_amount'].astype('float32')\n",
    "y_2023['tip_amount'] = y_2023['tip_amount'].astype('float32')\n",
    "y_2023['tolls_amount'] = y_2023['tolls_amount'].astype('float32')\n",
    "y_2023['total_amount'] = y_2023['total_amount'].astype('float32')\n",
    "y_2023.info()"
   ]
  },
  {
   "cell_type": "code",
   "execution_count": 7,
   "metadata": {},
   "outputs": [
    {
     "data": {
      "text/plain": [
       "RatecodeID\n",
       "1.0     34891490\n",
       "2.0      1473727\n",
       "5.0       217163\n",
       "99.0      213480\n",
       "3.0       127504\n",
       "4.0        77445\n",
       "6.0           61\n",
       "Name: count, dtype: int64"
      ]
     },
     "execution_count": 7,
     "metadata": {},
     "output_type": "execute_result"
    }
   ],
   "source": [
    "y_2023.RatecodeID.value_counts()"
   ]
  },
  {
   "cell_type": "markdown",
   "metadata": {},
   "source": [
    "Rate codes 1 - 6 are designated by the TLC as standard/airport/negotiated/group rates, but not 99. Unsure what this code represents. What can we determine about trips with rate code 99?"
   ]
  },
  {
   "cell_type": "code",
   "execution_count": 8,
   "metadata": {},
   "outputs": [
    {
     "data": {
      "text/plain": [
       "99.95268877646618"
      ]
     },
     "execution_count": 8,
     "metadata": {},
     "output_type": "execute_result"
    }
   ],
   "source": [
    "# % of ratecode 99 rides with no tip\n",
    "100 * len(y_2023.loc[(y_2023.RatecodeID == 99) & (y_2023.tip_amount == 0)]) / len(y_2023.loc[y_2023.RatecodeID == 99])\n",
    "# 99.95 %"
   ]
  },
  {
   "cell_type": "code",
   "execution_count": 9,
   "metadata": {},
   "outputs": [
    {
     "data": {
      "text/plain": [
       "RatecodeID\n",
       "1.0      2.817362\n",
       "2.0     17.381987\n",
       "3.0     16.625427\n",
       "4.0     23.323414\n",
       "5.0      6.653451\n",
       "6.0      1.765246\n",
       "99.0    14.859373\n",
       "Name: trip_distance, dtype: float32"
      ]
     },
     "execution_count": 9,
     "metadata": {},
     "output_type": "execute_result"
    }
   ],
   "source": [
    "y_2023.groupby(['RatecodeID']).trip_distance.mean()"
   ]
  },
  {
   "cell_type": "code",
   "execution_count": 10,
   "metadata": {},
   "outputs": [
    {
     "data": {
      "text/plain": [
       "RatecodeID\n",
       "1.0      16.566458\n",
       "2.0      67.557449\n",
       "3.0      83.374687\n",
       "4.0     105.376038\n",
       "5.0      69.543091\n",
       "6.0      47.456226\n",
       "99.0     33.358036\n",
       "Name: fare_amount, dtype: float32"
      ]
     },
     "execution_count": 10,
     "metadata": {},
     "output_type": "execute_result"
    }
   ],
   "source": [
    "y_2023.groupby(['RatecodeID']).fare_amount.mean()"
   ]
  },
  {
   "cell_type": "markdown",
   "metadata": {},
   "source": [
    "Unclear what rate code 99 refers to (maybe a miscellaneous designation). We'll leave the corresponding records as they appear to be valid data.\n",
    "\n",
    "Next: check for null values."
   ]
  },
  {
   "cell_type": "code",
   "execution_count": 11,
   "metadata": {},
   "outputs": [
    {
     "data": {
      "text/plain": [
       "tpep_pickup_datetime           0\n",
       "tpep_dropoff_datetime          0\n",
       "passenger_count          1309356\n",
       "trip_distance                  0\n",
       "RatecodeID               1309356\n",
       "PULocationID                   0\n",
       "DOLocationID                   0\n",
       "payment_type                   0\n",
       "fare_amount                    0\n",
       "tip_amount                     0\n",
       "tolls_amount                   0\n",
       "total_amount                   0\n",
       "dtype: int64"
      ]
     },
     "execution_count": 11,
     "metadata": {},
     "output_type": "execute_result"
    }
   ],
   "source": [
    "y_2023.isna().sum()"
   ]
  },
  {
   "cell_type": "code",
   "execution_count": 12,
   "metadata": {},
   "outputs": [
    {
     "data": {
      "text/html": [
       "<div>\n",
       "<style scoped>\n",
       "    .dataframe tbody tr th:only-of-type {\n",
       "        vertical-align: middle;\n",
       "    }\n",
       "\n",
       "    .dataframe tbody tr th {\n",
       "        vertical-align: top;\n",
       "    }\n",
       "\n",
       "    .dataframe thead th {\n",
       "        text-align: right;\n",
       "    }\n",
       "</style>\n",
       "<table border=\"1\" class=\"dataframe\">\n",
       "  <thead>\n",
       "    <tr style=\"text-align: right;\">\n",
       "      <th></th>\n",
       "      <th>tpep_pickup_datetime</th>\n",
       "      <th>tpep_dropoff_datetime</th>\n",
       "      <th>passenger_count</th>\n",
       "      <th>trip_distance</th>\n",
       "      <th>RatecodeID</th>\n",
       "      <th>PULocationID</th>\n",
       "      <th>DOLocationID</th>\n",
       "      <th>payment_type</th>\n",
       "      <th>fare_amount</th>\n",
       "      <th>tip_amount</th>\n",
       "      <th>tolls_amount</th>\n",
       "      <th>total_amount</th>\n",
       "    </tr>\n",
       "  </thead>\n",
       "  <tbody>\n",
       "    <tr>\n",
       "      <th>2995023</th>\n",
       "      <td>2023-01-01 00:02:40</td>\n",
       "      <td>2023-01-01 00:30:36</td>\n",
       "      <td>NaN</td>\n",
       "      <td>0.00</td>\n",
       "      <td>NaN</td>\n",
       "      <td>142</td>\n",
       "      <td>79</td>\n",
       "      <td>0</td>\n",
       "      <td>20.129999</td>\n",
       "      <td>0.00</td>\n",
       "      <td>0.0</td>\n",
       "      <td>24.129999</td>\n",
       "    </tr>\n",
       "    <tr>\n",
       "      <th>2995024</th>\n",
       "      <td>2023-01-01 00:57:48</td>\n",
       "      <td>2023-01-01 01:12:34</td>\n",
       "      <td>NaN</td>\n",
       "      <td>0.00</td>\n",
       "      <td>NaN</td>\n",
       "      <td>237</td>\n",
       "      <td>263</td>\n",
       "      <td>0</td>\n",
       "      <td>12.000000</td>\n",
       "      <td>2.55</td>\n",
       "      <td>0.0</td>\n",
       "      <td>21.549999</td>\n",
       "    </tr>\n",
       "    <tr>\n",
       "      <th>2995025</th>\n",
       "      <td>2023-01-01 00:55:37</td>\n",
       "      <td>2023-01-01 01:00:41</td>\n",
       "      <td>NaN</td>\n",
       "      <td>0.86</td>\n",
       "      <td>NaN</td>\n",
       "      <td>24</td>\n",
       "      <td>41</td>\n",
       "      <td>0</td>\n",
       "      <td>12.800000</td>\n",
       "      <td>2.14</td>\n",
       "      <td>0.0</td>\n",
       "      <td>16.440001</td>\n",
       "    </tr>\n",
       "    <tr>\n",
       "      <th>2995026</th>\n",
       "      <td>2023-01-01 00:43:47</td>\n",
       "      <td>2023-01-01 00:56:12</td>\n",
       "      <td>NaN</td>\n",
       "      <td>5.36</td>\n",
       "      <td>NaN</td>\n",
       "      <td>88</td>\n",
       "      <td>229</td>\n",
       "      <td>0</td>\n",
       "      <td>24.510000</td>\n",
       "      <td>4.28</td>\n",
       "      <td>0.0</td>\n",
       "      <td>32.790001</td>\n",
       "    </tr>\n",
       "    <tr>\n",
       "      <th>2995027</th>\n",
       "      <td>2023-01-01 00:34:00</td>\n",
       "      <td>2023-01-01 00:51:00</td>\n",
       "      <td>NaN</td>\n",
       "      <td>6.03</td>\n",
       "      <td>NaN</td>\n",
       "      <td>232</td>\n",
       "      <td>263</td>\n",
       "      <td>0</td>\n",
       "      <td>32.299999</td>\n",
       "      <td>7.26</td>\n",
       "      <td>0.0</td>\n",
       "      <td>43.560001</td>\n",
       "    </tr>\n",
       "  </tbody>\n",
       "</table>\n",
       "</div>"
      ],
      "text/plain": [
       "        tpep_pickup_datetime tpep_dropoff_datetime  passenger_count  \\\n",
       "2995023  2023-01-01 00:02:40   2023-01-01 00:30:36              NaN   \n",
       "2995024  2023-01-01 00:57:48   2023-01-01 01:12:34              NaN   \n",
       "2995025  2023-01-01 00:55:37   2023-01-01 01:00:41              NaN   \n",
       "2995026  2023-01-01 00:43:47   2023-01-01 00:56:12              NaN   \n",
       "2995027  2023-01-01 00:34:00   2023-01-01 00:51:00              NaN   \n",
       "\n",
       "         trip_distance  RatecodeID  PULocationID  DOLocationID  payment_type  \\\n",
       "2995023           0.00         NaN           142            79             0   \n",
       "2995024           0.00         NaN           237           263             0   \n",
       "2995025           0.86         NaN            24            41             0   \n",
       "2995026           5.36         NaN            88           229             0   \n",
       "2995027           6.03         NaN           232           263             0   \n",
       "\n",
       "         fare_amount  tip_amount  tolls_amount  total_amount  \n",
       "2995023    20.129999        0.00           0.0     24.129999  \n",
       "2995024    12.000000        2.55           0.0     21.549999  \n",
       "2995025    12.800000        2.14           0.0     16.440001  \n",
       "2995026    24.510000        4.28           0.0     32.790001  \n",
       "2995027    32.299999        7.26           0.0     43.560001  "
      ]
     },
     "execution_count": 12,
     "metadata": {},
     "output_type": "execute_result"
    }
   ],
   "source": [
    "y_2023.loc[y_2023.passenger_count.isna()].head()"
   ]
  },
  {
   "cell_type": "markdown",
   "metadata": {},
   "source": [
    "Replace null values for passenger count and ratecode with column modes (both are 1)."
   ]
  },
  {
   "cell_type": "code",
   "execution_count": 13,
   "metadata": {},
   "outputs": [
    {
     "name": "stderr",
     "output_type": "stream",
     "text": [
      "/tmp/ipykernel_20015/712782289.py:1: FutureWarning: A value is trying to be set on a copy of a DataFrame or Series through chained assignment using an inplace method.\n",
      "The behavior will change in pandas 3.0. This inplace method will never work because the intermediate object on which we are setting values always behaves as a copy.\n",
      "\n",
      "For example, when doing 'df[col].method(value, inplace=True)', try using 'df.method({col: value}, inplace=True)' or df[col] = df[col].method(value) instead, to perform the operation inplace on the original object.\n",
      "\n",
      "\n",
      "  y_2023['passenger_count'].fillna(1, inplace=True)\n",
      "/tmp/ipykernel_20015/712782289.py:2: FutureWarning: A value is trying to be set on a copy of a DataFrame or Series through chained assignment using an inplace method.\n",
      "The behavior will change in pandas 3.0. This inplace method will never work because the intermediate object on which we are setting values always behaves as a copy.\n",
      "\n",
      "For example, when doing 'df[col].method(value, inplace=True)', try using 'df.method({col: value}, inplace=True)' or df[col] = df[col].method(value) instead, to perform the operation inplace on the original object.\n",
      "\n",
      "\n",
      "  y_2023['RatecodeID'].fillna(1, inplace=True)\n"
     ]
    },
    {
     "data": {
      "text/plain": [
       "tpep_pickup_datetime     0\n",
       "tpep_dropoff_datetime    0\n",
       "passenger_count          0\n",
       "trip_distance            0\n",
       "RatecodeID               0\n",
       "PULocationID             0\n",
       "DOLocationID             0\n",
       "payment_type             0\n",
       "fare_amount              0\n",
       "tip_amount               0\n",
       "tolls_amount             0\n",
       "total_amount             0\n",
       "dtype: int64"
      ]
     },
     "execution_count": 13,
     "metadata": {},
     "output_type": "execute_result"
    }
   ],
   "source": [
    "y_2023['passenger_count'].fillna(1, inplace=True)\n",
    "y_2023['RatecodeID'].fillna(1, inplace=True)\n",
    "y_2023.isna().sum()"
   ]
  },
  {
   "cell_type": "markdown",
   "metadata": {},
   "source": [
    "The missing data appears to correspond to the same records other than airport fees. Later we'll replace null values for passengers and rate codes with the column mode. We'll remove the store and forward flag, congestion surcharge, and airport fee columns."
   ]
  },
  {
   "cell_type": "markdown",
   "metadata": {},
   "source": [
    "Remove some of the bad data:\n",
    "- non-2023 dates\n",
    "- trips with distance 0 or over 100 miles"
   ]
  },
  {
   "cell_type": "code",
   "execution_count": 14,
   "metadata": {},
   "outputs": [
    {
     "name": "stdout",
     "output_type": "stream",
     "text": [
      "memory usage before drop: 2.21 GB\n",
      "memory usage after drop: 3.02 GB\n",
      "memory usage after garbage collection: 3.02 GB\n"
     ]
    }
   ],
   "source": [
    "print(f\"memory usage before drop: {get_memory_usage():.2f} GB\")\n",
    "\n",
    "y_2023 = y_2023[(y_2023['tpep_pickup_datetime'] > pd.Timestamp('2023-01-01')) &(y_2023.tpep_pickup_datetime < pd.Timestamp('2024-01-01')) & (y_2023.tpep_dropoff_datetime > pd.Timestamp('2023-01-01')) & (y_2023.tpep_dropoff_datetime < pd.Timestamp('2024-01-01')) & (y_2023['trip_distance'] != 0) & (y_2023['trip_distance'] < 100)]\n",
    "\n",
    "print(f\"memory usage after drop: {get_memory_usage():.2f} GB\")\n",
    "\n",
    "gc.collect()\n",
    "\n",
    "print(f\"memory usage after garbage collection: {get_memory_usage():.2f} GB\")\n"
   ]
  },
  {
   "cell_type": "markdown",
   "metadata": {},
   "source": [
    "Add features for trip duration, day of pickup, and hour of pickup."
   ]
  },
  {
   "cell_type": "code",
   "execution_count": 15,
   "metadata": {},
   "outputs": [
    {
     "data": {
      "text/plain": [
       "0"
      ]
     },
     "execution_count": 15,
     "metadata": {},
     "output_type": "execute_result"
    }
   ],
   "source": [
    "y_2023['duration'] = ((y_2023.tpep_dropoff_datetime - y_2023.tpep_pickup_datetime) / pd.Timedelta(minutes=1)).round(2)\n",
    "y_2023['day'] = y_2023.tpep_pickup_datetime.dt.day_name()\n",
    "y_2023['hour'] = y_2023.tpep_pickup_datetime.dt.hour\n",
    "gc.collect()"
   ]
  },
  {
   "cell_type": "code",
   "execution_count": 16,
   "metadata": {},
   "outputs": [
    {
     "data": {
      "text/html": [
       "<div>\n",
       "<style scoped>\n",
       "    .dataframe tbody tr th:only-of-type {\n",
       "        vertical-align: middle;\n",
       "    }\n",
       "\n",
       "    .dataframe tbody tr th {\n",
       "        vertical-align: top;\n",
       "    }\n",
       "\n",
       "    .dataframe thead th {\n",
       "        text-align: right;\n",
       "    }\n",
       "</style>\n",
       "<table border=\"1\" class=\"dataframe\">\n",
       "  <thead>\n",
       "    <tr style=\"text-align: right;\">\n",
       "      <th></th>\n",
       "      <th>tpep_pickup_datetime</th>\n",
       "      <th>tpep_dropoff_datetime</th>\n",
       "      <th>passenger_count</th>\n",
       "      <th>trip_distance</th>\n",
       "      <th>RatecodeID</th>\n",
       "      <th>PULocationID</th>\n",
       "      <th>DOLocationID</th>\n",
       "      <th>payment_type</th>\n",
       "      <th>fare_amount</th>\n",
       "      <th>tip_amount</th>\n",
       "      <th>tolls_amount</th>\n",
       "      <th>total_amount</th>\n",
       "      <th>duration</th>\n",
       "      <th>day</th>\n",
       "      <th>hour</th>\n",
       "    </tr>\n",
       "  </thead>\n",
       "  <tbody>\n",
       "    <tr>\n",
       "      <th>0</th>\n",
       "      <td>2023-01-01 00:32:10</td>\n",
       "      <td>2023-01-01 00:40:36</td>\n",
       "      <td>1.0</td>\n",
       "      <td>0.97</td>\n",
       "      <td>1.0</td>\n",
       "      <td>161</td>\n",
       "      <td>141</td>\n",
       "      <td>2</td>\n",
       "      <td>9.3</td>\n",
       "      <td>0.00</td>\n",
       "      <td>0.0</td>\n",
       "      <td>14.300000</td>\n",
       "      <td>8.43</td>\n",
       "      <td>Sunday</td>\n",
       "      <td>0</td>\n",
       "    </tr>\n",
       "    <tr>\n",
       "      <th>1</th>\n",
       "      <td>2023-01-01 00:55:08</td>\n",
       "      <td>2023-01-01 01:01:27</td>\n",
       "      <td>1.0</td>\n",
       "      <td>1.10</td>\n",
       "      <td>1.0</td>\n",
       "      <td>43</td>\n",
       "      <td>237</td>\n",
       "      <td>1</td>\n",
       "      <td>7.9</td>\n",
       "      <td>4.00</td>\n",
       "      <td>0.0</td>\n",
       "      <td>16.900000</td>\n",
       "      <td>6.32</td>\n",
       "      <td>Sunday</td>\n",
       "      <td>0</td>\n",
       "    </tr>\n",
       "    <tr>\n",
       "      <th>2</th>\n",
       "      <td>2023-01-01 00:25:04</td>\n",
       "      <td>2023-01-01 00:37:49</td>\n",
       "      <td>1.0</td>\n",
       "      <td>2.51</td>\n",
       "      <td>1.0</td>\n",
       "      <td>48</td>\n",
       "      <td>238</td>\n",
       "      <td>1</td>\n",
       "      <td>14.9</td>\n",
       "      <td>15.00</td>\n",
       "      <td>0.0</td>\n",
       "      <td>34.900002</td>\n",
       "      <td>12.75</td>\n",
       "      <td>Sunday</td>\n",
       "      <td>0</td>\n",
       "    </tr>\n",
       "    <tr>\n",
       "      <th>3</th>\n",
       "      <td>2023-01-01 00:03:48</td>\n",
       "      <td>2023-01-01 00:13:25</td>\n",
       "      <td>0.0</td>\n",
       "      <td>1.90</td>\n",
       "      <td>1.0</td>\n",
       "      <td>138</td>\n",
       "      <td>7</td>\n",
       "      <td>1</td>\n",
       "      <td>12.1</td>\n",
       "      <td>0.00</td>\n",
       "      <td>0.0</td>\n",
       "      <td>20.850000</td>\n",
       "      <td>9.62</td>\n",
       "      <td>Sunday</td>\n",
       "      <td>0</td>\n",
       "    </tr>\n",
       "    <tr>\n",
       "      <th>4</th>\n",
       "      <td>2023-01-01 00:10:29</td>\n",
       "      <td>2023-01-01 00:21:19</td>\n",
       "      <td>1.0</td>\n",
       "      <td>1.43</td>\n",
       "      <td>1.0</td>\n",
       "      <td>107</td>\n",
       "      <td>79</td>\n",
       "      <td>1</td>\n",
       "      <td>11.4</td>\n",
       "      <td>3.28</td>\n",
       "      <td>0.0</td>\n",
       "      <td>19.680000</td>\n",
       "      <td>10.83</td>\n",
       "      <td>Sunday</td>\n",
       "      <td>0</td>\n",
       "    </tr>\n",
       "  </tbody>\n",
       "</table>\n",
       "</div>"
      ],
      "text/plain": [
       "  tpep_pickup_datetime tpep_dropoff_datetime  passenger_count  trip_distance  \\\n",
       "0  2023-01-01 00:32:10   2023-01-01 00:40:36              1.0           0.97   \n",
       "1  2023-01-01 00:55:08   2023-01-01 01:01:27              1.0           1.10   \n",
       "2  2023-01-01 00:25:04   2023-01-01 00:37:49              1.0           2.51   \n",
       "3  2023-01-01 00:03:48   2023-01-01 00:13:25              0.0           1.90   \n",
       "4  2023-01-01 00:10:29   2023-01-01 00:21:19              1.0           1.43   \n",
       "\n",
       "   RatecodeID  PULocationID  DOLocationID  payment_type  fare_amount  \\\n",
       "0         1.0           161           141             2          9.3   \n",
       "1         1.0            43           237             1          7.9   \n",
       "2         1.0            48           238             1         14.9   \n",
       "3         1.0           138             7             1         12.1   \n",
       "4         1.0           107            79             1         11.4   \n",
       "\n",
       "   tip_amount  tolls_amount  total_amount  duration     day  hour  \n",
       "0        0.00           0.0     14.300000      8.43  Sunday     0  \n",
       "1        4.00           0.0     16.900000      6.32  Sunday     0  \n",
       "2       15.00           0.0     34.900002     12.75  Sunday     0  \n",
       "3        0.00           0.0     20.850000      9.62  Sunday     0  \n",
       "4        3.28           0.0     19.680000     10.83  Sunday     0  "
      ]
     },
     "execution_count": 16,
     "metadata": {},
     "output_type": "execute_result"
    }
   ],
   "source": [
    "y_2023.head()"
   ]
  },
  {
   "cell_type": "markdown",
   "metadata": {},
   "source": [
    "We can remove the pickup and dropoff datetime columns now that we've extracted the data we want from them."
   ]
  },
  {
   "cell_type": "code",
   "execution_count": 17,
   "metadata": {},
   "outputs": [],
   "source": [
    "del y_2023['tpep_pickup_datetime']\n",
    "del y_2023['tpep_dropoff_datetime']"
   ]
  },
  {
   "cell_type": "markdown",
   "metadata": {},
   "source": [
    "Add a feature for tip percent, keeping in mind that tips aren't recorded for cash payments (designated by payment type 2)."
   ]
  },
  {
   "cell_type": "code",
   "execution_count": 18,
   "metadata": {},
   "outputs": [],
   "source": [
    "y_2023['tip_pct'] = (100 * y_2023.tip_amount / (y_2023.total_amount - y_2023.tip_amount)).round(2)"
   ]
  },
  {
   "cell_type": "code",
   "execution_count": 19,
   "metadata": {},
   "outputs": [
    {
     "data": {
      "image/png": "[encoded data removed]",
      "text/plain": [
       "<Figure size 640x480 with 1 Axes>"
      ]
     },
     "metadata": {},
     "output_type": "display_data"
    }
   ],
   "source": [
    "plt.hist(y_2023.tip_pct, bins = 31, range = (0, 30))\n",
    "plt.show()"
   ]
  },
  {
   "cell_type": "markdown",
   "metadata": {},
   "source": [
    "Looking at a histogram of tip percentages, we see a clear delineation at 5% increments, which we expect from a suggested tip option for e-payment.\n",
    "\n",
    "Next: add speed and $ / min features. S / min is our KPI for measuring profitability, determined by (fare + tip - gas) / time, where the price of gas is based on an average NYC price of $3.50 / gallon."
   ]
  },
  {
   "cell_type": "code",
   "execution_count": 20,
   "metadata": {},
   "outputs": [
    {
     "name": "stdout",
     "output_type": "stream",
     "text": [
      "memory usage: 4.03 GB\n",
      "memory usage after garbage collection: 4.03 GB\n"
     ]
    }
   ],
   "source": [
    "y_2023['speed'] = (60 * y_2023.trip_distance / y_2023.duration).round(2).astype('float32')\n",
    "y_2023['dollar_min'] = ((y_2023.fare_amount + y_2023.tip_amount - 0.15 * y_2023.trip_distance) / y_2023.duration).round(2).astype('float32')\n",
    "print(f\"memory usage: {get_memory_usage():.2f} GB\")\n",
    "gc.collect()\n",
    "print(f\"memory usage after garbage collection: {get_memory_usage():.2f} GB\")"
   ]
  },
  {
   "cell_type": "code",
   "execution_count": 21,
   "metadata": {},
   "outputs": [
    {
     "data": {
      "image/png": "[encoded data removed]",
      "text/plain": [
       "<Figure size 640x480 with 1 Axes>"
      ]
     },
     "metadata": {},
     "output_type": "display_data"
    }
   ],
   "source": [
    "plt.hist(y_2023.speed, bins = 60, range = (0, 60))\n",
    "plt.show()"
   ]
  },
  {
   "cell_type": "code",
   "execution_count": 22,
   "metadata": {},
   "outputs": [
    {
     "data": {
      "image/png": "[encoded data removed]",
      "text/plain": [
       "<Figure size 640x480 with 1 Axes>"
      ]
     },
     "metadata": {},
     "output_type": "display_data"
    }
   ],
   "source": [
    "plt.hist(y_2023.dollar_min, bins = 36, range = (0, 3.5))\n",
    "plt.show()"
   ]
  },
  {
   "cell_type": "markdown",
   "metadata": {},
   "source": [
    "Distribution of speed and dollars per minute follow a left-skewed distribution, with dollars per minute highly correlated with speed."
   ]
  },
  {
   "cell_type": "markdown",
   "metadata": {},
   "source": [
    "Remove bad data:\n",
    "- trips with unknown pickup or dropoff locations (designated as zones 264 and 265)\n",
    "- 0 and negative fares\n",
    "- trips with duration less than 1 minute or over 6 hours\n",
    "- trips with speed > 60 mph\n",
    "- negative tips"
   ]
  },
  {
   "cell_type": "code",
   "execution_count": 23,
   "metadata": {},
   "outputs": [
    {
     "name": "stdout",
     "output_type": "stream",
     "text": [
      "memory usage before drop: 4.04 GB\n",
      "memory usage after drop: 4.32 GB\n",
      "memory usage after garbage collection: 4.40 GB\n"
     ]
    }
   ],
   "source": [
    "print(f\"memory usage before drop: {get_memory_usage():.2f} GB\")\n",
    "\n",
    "y_2023 = y_2023[(y_2023.PULocationID < 264) & (y_2023.DOLocationID < 264) & (y_2023.fare_amount > 0) & (y_2023.total_amount > 0) & (y_2023.duration >= 1) & (y_2023.duration <= 360) & (y_2023.speed < 60) & (y_2023.tip_amount >= 0)]\n",
    "\n",
    "print(f\"memory usage after drop: {get_memory_usage():.2f} GB\")\n",
    "\n",
    "gc.collect()\n",
    "\n",
    "print(f\"memory usage after garbage collection: {get_memory_usage():.2f} GB\")"
   ]
  },
  {
   "cell_type": "code",
   "execution_count": 24,
   "metadata": {},
   "outputs": [
    {
     "name": "stdout",
     "output_type": "stream",
     "text": [
      "<class 'pandas.core.frame.DataFrame'>\n",
      "Index: 36490653 entries, 0 to 38310225\n",
      "Data columns (total 16 columns):\n",
      " #   Column           Dtype  \n",
      "---  ------           -----  \n",
      " 0   passenger_count  float32\n",
      " 1   trip_distance    float32\n",
      " 2   RatecodeID       float32\n",
      " 3   PULocationID     int32  \n",
      " 4   DOLocationID     int32  \n",
      " 5   payment_type     int32  \n",
      " 6   fare_amount      float32\n",
      " 7   tip_amount       float32\n",
      " 8   tolls_amount     float32\n",
      " 9   total_amount     float32\n",
      " 10  duration         float64\n",
      " 11  day              object \n",
      " 12  hour             int32  \n",
      " 13  tip_pct          float32\n",
      " 14  speed            float32\n",
      " 15  dollar_min       float32\n",
      "dtypes: float32(10), float64(1), int32(4), object(1)\n",
      "memory usage: 2.7+ GB\n"
     ]
    }
   ],
   "source": [
    "y_2023.info()"
   ]
  },
  {
   "cell_type": "markdown",
   "metadata": {},
   "source": [
    "Add a column designating a valid ride with a value of 1 for filtering purposes."
   ]
  },
  {
   "cell_type": "code",
   "execution_count": 30,
   "metadata": {},
   "outputs": [],
   "source": [
    "y_2023['valid_ride'] = 1\n",
    "y_2023['valid_ride'] = y_2023['valid_ride'].astype('int32')"
   ]
  },
  {
   "cell_type": "code",
   "execution_count": 31,
   "metadata": {},
   "outputs": [
    {
     "name": "stdout",
     "output_type": "stream",
     "text": [
      "<class 'pandas.core.frame.DataFrame'>\n",
      "Index: 36490653 entries, 0 to 38310225\n",
      "Data columns (total 17 columns):\n",
      " #   Column           Dtype  \n",
      "---  ------           -----  \n",
      " 0   passenger_count  float32\n",
      " 1   trip_distance    float32\n",
      " 2   RatecodeID       float32\n",
      " 3   PULocationID     int32  \n",
      " 4   DOLocationID     int32  \n",
      " 5   payment_type     int32  \n",
      " 6   fare_amount      float32\n",
      " 7   tip_amount       float32\n",
      " 8   tolls_amount     float32\n",
      " 9   total_amount     float32\n",
      " 10  duration         float64\n",
      " 11  day              object \n",
      " 12  hour             int32  \n",
      " 13  tip_pct          float32\n",
      " 14  speed            float32\n",
      " 15  dollar_min       float32\n",
      " 16  valid_ride       int32  \n",
      "dtypes: float32(10), float64(1), int32(5), object(1)\n",
      "memory usage: 2.9+ GB\n"
     ]
    }
   ],
   "source": [
    "y_2023.info()"
   ]
  },
  {
   "cell_type": "markdown",
   "metadata": {},
   "source": [
    "Convert our Pandas Dataframe back to Parquet for loading in a dashboard."
   ]
  },
  {
   "cell_type": "code",
   "execution_count": 32,
   "metadata": {},
   "outputs": [],
   "source": [
    "y_2023.to_parquet('./raw_data/y_2023_clean.parquet', compression=None, index=False)"
   ]
  },
  {
   "cell_type": "code",
   "execution_count": 33,
   "metadata": {},
   "outputs": [
    {
     "name": "stdout",
     "output_type": "stream",
     "text": [
      "<class 'pandas.core.frame.DataFrame'>\n",
      "Index: 36490653 entries, 0 to 38310225\n",
      "Data columns (total 17 columns):\n",
      " #   Column           Dtype  \n",
      "---  ------           -----  \n",
      " 0   passenger_count  float32\n",
      " 1   trip_distance    float32\n",
      " 2   RatecodeID       float32\n",
      " 3   PULocationID     int32  \n",
      " 4   DOLocationID     int32  \n",
      " 5   payment_type     int32  \n",
      " 6   fare_amount      float32\n",
      " 7   tip_amount       float32\n",
      " 8   tolls_amount     float32\n",
      " 9   total_amount     float32\n",
      " 10  duration         float64\n",
      " 11  day              object \n",
      " 12  hour             int32  \n",
      " 13  tip_pct          float32\n",
      " 14  speed            float32\n",
      " 15  dollar_min       float32\n",
      " 16  valid_ride       int32  \n",
      "dtypes: float32(10), float64(1), int32(5), object(1)\n",
      "memory usage: 2.9+ GB\n"
     ]
    }
   ],
   "source": [
    "y_2023.info()"
   ]
  },
  {
   "cell_type": "code",
   "execution_count": null,
   "metadata": {},
   "outputs": [],
   "source": []
  }
 ],
 "metadata": {
  "kernelspec": {
   "display_name": "base",
   "language": "python",
   "name": "python3"
  },
  "language_info": {
   "codemirror_mode": {
    "name": "ipython",
    "version": 3
   },
   "file_extension": ".py",
   "mimetype": "text/x-python",
   "name": "python",
   "nbconvert_exporter": "python",
   "pygments_lexer": "ipython3",
   "version": "3.1.undefined"
  }
 },
 "nbformat": 4,
 "nbformat_minor": 2
}
