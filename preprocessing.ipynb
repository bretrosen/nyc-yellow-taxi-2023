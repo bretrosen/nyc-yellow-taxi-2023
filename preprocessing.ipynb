{
 "cells": [
  {
   "cell_type": "code",
   "execution_count": 1,
   "metadata": {},
   "outputs": [],
   "source": [
    "import pandas as pd\n",
    "import pyarrow.parquet as pq\n",
    "import psutil\n",
    "import matplotlib.pyplot as plt\n",
    "import gc"
   ]
  },
  {
   "cell_type": "code",
   "execution_count": 2,
   "metadata": {},
   "outputs": [
    {
     "name": "stdout",
     "output_type": "stream",
     "text": [
      "Initial memory usage: 0.19 GB\n",
      "memory usage after read: 4.81 GB\n"
     ]
    }
   ],
   "source": [
    "def get_memory_usage():\n",
    "    process = psutil.Process()\n",
    "    mem_info = process.memory_info()\n",
    "    return mem_info.rss / (1024 ** 3)  # Return memory usage in GB\n",
    "\n",
    "print(f\"Initial memory usage: {get_memory_usage():.2f} GB\")\n",
    "\n",
    "y_2023 = pq.read_table('./raw_data/y_2023.parquet').to_pandas()\n",
    "\n",
    "print(f\"memory usage after read: {get_memory_usage():.2f} GB\")"
   ]
  },
  {
   "cell_type": "code",
   "execution_count": 3,
   "metadata": {},
   "outputs": [
    {
     "name": "stdout",
     "output_type": "stream",
     "text": [
      "<class 'pandas.core.frame.DataFrame'>\n",
      "RangeIndex: 38310226 entries, 0 to 38310225\n",
      "Data columns (total 20 columns):\n",
      " #   Column                 Dtype         \n",
      "---  ------                 -----         \n",
      " 0   VendorID               int64         \n",
      " 1   tpep_pickup_datetime   datetime64[us]\n",
      " 2   tpep_dropoff_datetime  datetime64[us]\n",
      " 3   passenger_count        float64       \n",
      " 4   trip_distance          float64       \n",
      " 5   RatecodeID             float64       \n",
      " 6   store_and_fwd_flag     object        \n",
      " 7   PULocationID           int64         \n",
      " 8   DOLocationID           int64         \n",
      " 9   payment_type           int64         \n",
      " 10  fare_amount            float64       \n",
      " 11  extra                  float64       \n",
      " 12  mta_tax                float64       \n",
      " 13  tip_amount             float64       \n",
      " 14  tolls_amount           float64       \n",
      " 15  improvement_surcharge  float64       \n",
      " 16  total_amount           float64       \n",
      " 17  congestion_surcharge   float64       \n",
      " 18  airport_fee            float64       \n",
      " 19  Airport_fee            float64       \n",
      "dtypes: datetime64[us](2), float64(13), int64(4), object(1)\n",
      "memory usage: 5.7+ GB\n"
     ]
    }
   ],
   "source": [
    "y_2023.info()"
   ]
  },
  {
   "cell_type": "code",
   "execution_count": 4,
   "metadata": {},
   "outputs": [
    {
     "data": {
      "text/plain": [
       "RatecodeID\n",
       "1.0     34891490\n",
       "2.0      1473727\n",
       "5.0       217163\n",
       "99.0      213480\n",
       "3.0       127504\n",
       "4.0        77445\n",
       "6.0           61\n",
       "Name: count, dtype: int64"
      ]
     },
     "execution_count": 4,
     "metadata": {},
     "output_type": "execute_result"
    }
   ],
   "source": [
    "y_2023.RatecodeID.value_counts()"
   ]
  },
  {
   "cell_type": "markdown",
   "metadata": {},
   "source": [
    "Rate codes 1 - 6 are designated by the TLC as standard/airport/negotiated/group rates, but not 99. Unsure what this code represents. What can we determine about trips with rate code 99?"
   ]
  },
  {
   "cell_type": "code",
   "execution_count": 5,
   "metadata": {},
   "outputs": [
    {
     "data": {
      "text/plain": [
       "99.95268877646618"
      ]
     },
     "execution_count": 5,
     "metadata": {},
     "output_type": "execute_result"
    }
   ],
   "source": [
    "# % of ratecode 99 rides with no tip\n",
    "100 * len(y_2023.loc[(y_2023.RatecodeID == 99) & (y_2023.tip_amount == 0)]) / len(y_2023.loc[y_2023.RatecodeID == 99])\n",
    "# 99.95 %"
   ]
  },
  {
   "cell_type": "code",
   "execution_count": 6,
   "metadata": {},
   "outputs": [
    {
     "data": {
      "text/plain": [
       "RatecodeID\n",
       "1.0      2.817361\n",
       "2.0     17.381986\n",
       "3.0     16.625427\n",
       "4.0     23.323413\n",
       "5.0      6.653452\n",
       "6.0      1.765246\n",
       "99.0    14.859373\n",
       "Name: trip_distance, dtype: float64"
      ]
     },
     "execution_count": 6,
     "metadata": {},
     "output_type": "execute_result"
    }
   ],
   "source": [
    "y_2023.groupby(['RatecodeID']).trip_distance.mean()"
   ]
  },
  {
   "cell_type": "code",
   "execution_count": 7,
   "metadata": {},
   "outputs": [
    {
     "data": {
      "text/plain": [
       "RatecodeID\n",
       "1.0      16.566456\n",
       "2.0      67.557451\n",
       "3.0      83.374685\n",
       "4.0     105.376040\n",
       "5.0      69.543095\n",
       "6.0      47.456230\n",
       "99.0     33.358036\n",
       "Name: fare_amount, dtype: float64"
      ]
     },
     "execution_count": 7,
     "metadata": {},
     "output_type": "execute_result"
    }
   ],
   "source": [
    "y_2023.groupby(['RatecodeID']).fare_amount.mean()"
   ]
  },
  {
   "cell_type": "markdown",
   "metadata": {},
   "source": [
    "Unclear what rate code 99 refers to (maybe a miscellaneous designation). We'll leave the corresponding records as they appear to be valid data.\n",
    "\n",
    "Next: check for null values."
   ]
  },
  {
   "cell_type": "code",
   "execution_count": 8,
   "metadata": {},
   "outputs": [
    {
     "data": {
      "text/plain": [
       "VendorID                        0\n",
       "tpep_pickup_datetime            0\n",
       "tpep_dropoff_datetime           0\n",
       "passenger_count           1309356\n",
       "trip_distance                   0\n",
       "RatecodeID                1309356\n",
       "store_and_fwd_flag        1309356\n",
       "PULocationID                    0\n",
       "DOLocationID                    0\n",
       "payment_type                    0\n",
       "fare_amount                     0\n",
       "extra                           0\n",
       "mta_tax                         0\n",
       "tip_amount                      0\n",
       "tolls_amount                    0\n",
       "improvement_surcharge           0\n",
       "total_amount                    0\n",
       "congestion_surcharge      1309356\n",
       "airport_fee              35315203\n",
       "Airport_fee               4304379\n",
       "dtype: int64"
      ]
     },
     "execution_count": 8,
     "metadata": {},
     "output_type": "execute_result"
    }
   ],
   "source": [
    "y_2023.isna().sum()"
   ]
  },
  {
   "cell_type": "code",
   "execution_count": 9,
   "metadata": {},
   "outputs": [
    {
     "data": {
      "text/html": [
       "<div>\n",
       "<style scoped>\n",
       "    .dataframe tbody tr th:only-of-type {\n",
       "        vertical-align: middle;\n",
       "    }\n",
       "\n",
       "    .dataframe tbody tr th {\n",
       "        vertical-align: top;\n",
       "    }\n",
       "\n",
       "    .dataframe thead th {\n",
       "        text-align: right;\n",
       "    }\n",
       "</style>\n",
       "<table border=\"1\" class=\"dataframe\">\n",
       "  <thead>\n",
       "    <tr style=\"text-align: right;\">\n",
       "      <th></th>\n",
       "      <th>VendorID</th>\n",
       "      <th>tpep_pickup_datetime</th>\n",
       "      <th>tpep_dropoff_datetime</th>\n",
       "      <th>passenger_count</th>\n",
       "      <th>trip_distance</th>\n",
       "      <th>RatecodeID</th>\n",
       "      <th>store_and_fwd_flag</th>\n",
       "      <th>PULocationID</th>\n",
       "      <th>DOLocationID</th>\n",
       "      <th>payment_type</th>\n",
       "      <th>fare_amount</th>\n",
       "      <th>extra</th>\n",
       "      <th>mta_tax</th>\n",
       "      <th>tip_amount</th>\n",
       "      <th>tolls_amount</th>\n",
       "      <th>improvement_surcharge</th>\n",
       "      <th>total_amount</th>\n",
       "      <th>congestion_surcharge</th>\n",
       "      <th>airport_fee</th>\n",
       "      <th>Airport_fee</th>\n",
       "    </tr>\n",
       "  </thead>\n",
       "  <tbody>\n",
       "    <tr>\n",
       "      <th>2995023</th>\n",
       "      <td>1</td>\n",
       "      <td>2023-01-01 00:02:40</td>\n",
       "      <td>2023-01-01 00:30:36</td>\n",
       "      <td>NaN</td>\n",
       "      <td>0.00</td>\n",
       "      <td>NaN</td>\n",
       "      <td>None</td>\n",
       "      <td>142</td>\n",
       "      <td>79</td>\n",
       "      <td>0</td>\n",
       "      <td>20.13</td>\n",
       "      <td>0.0</td>\n",
       "      <td>0.5</td>\n",
       "      <td>0.00</td>\n",
       "      <td>0.0</td>\n",
       "      <td>1.0</td>\n",
       "      <td>24.13</td>\n",
       "      <td>NaN</td>\n",
       "      <td>NaN</td>\n",
       "      <td>NaN</td>\n",
       "    </tr>\n",
       "    <tr>\n",
       "      <th>2995024</th>\n",
       "      <td>1</td>\n",
       "      <td>2023-01-01 00:57:48</td>\n",
       "      <td>2023-01-01 01:12:34</td>\n",
       "      <td>NaN</td>\n",
       "      <td>0.00</td>\n",
       "      <td>NaN</td>\n",
       "      <td>None</td>\n",
       "      <td>237</td>\n",
       "      <td>263</td>\n",
       "      <td>0</td>\n",
       "      <td>12.00</td>\n",
       "      <td>1.0</td>\n",
       "      <td>0.5</td>\n",
       "      <td>2.55</td>\n",
       "      <td>0.0</td>\n",
       "      <td>1.0</td>\n",
       "      <td>21.55</td>\n",
       "      <td>NaN</td>\n",
       "      <td>NaN</td>\n",
       "      <td>NaN</td>\n",
       "    </tr>\n",
       "    <tr>\n",
       "      <th>2995025</th>\n",
       "      <td>2</td>\n",
       "      <td>2023-01-01 00:55:37</td>\n",
       "      <td>2023-01-01 01:00:41</td>\n",
       "      <td>NaN</td>\n",
       "      <td>0.86</td>\n",
       "      <td>NaN</td>\n",
       "      <td>None</td>\n",
       "      <td>24</td>\n",
       "      <td>41</td>\n",
       "      <td>0</td>\n",
       "      <td>12.80</td>\n",
       "      <td>0.0</td>\n",
       "      <td>0.5</td>\n",
       "      <td>2.14</td>\n",
       "      <td>0.0</td>\n",
       "      <td>1.0</td>\n",
       "      <td>16.44</td>\n",
       "      <td>NaN</td>\n",
       "      <td>NaN</td>\n",
       "      <td>NaN</td>\n",
       "    </tr>\n",
       "    <tr>\n",
       "      <th>2995026</th>\n",
       "      <td>2</td>\n",
       "      <td>2023-01-01 00:43:47</td>\n",
       "      <td>2023-01-01 00:56:12</td>\n",
       "      <td>NaN</td>\n",
       "      <td>5.36</td>\n",
       "      <td>NaN</td>\n",
       "      <td>None</td>\n",
       "      <td>88</td>\n",
       "      <td>229</td>\n",
       "      <td>0</td>\n",
       "      <td>24.51</td>\n",
       "      <td>0.0</td>\n",
       "      <td>0.5</td>\n",
       "      <td>4.28</td>\n",
       "      <td>0.0</td>\n",
       "      <td>1.0</td>\n",
       "      <td>32.79</td>\n",
       "      <td>NaN</td>\n",
       "      <td>NaN</td>\n",
       "      <td>NaN</td>\n",
       "    </tr>\n",
       "    <tr>\n",
       "      <th>2995027</th>\n",
       "      <td>2</td>\n",
       "      <td>2023-01-01 00:34:00</td>\n",
       "      <td>2023-01-01 00:51:00</td>\n",
       "      <td>NaN</td>\n",
       "      <td>6.03</td>\n",
       "      <td>NaN</td>\n",
       "      <td>None</td>\n",
       "      <td>232</td>\n",
       "      <td>263</td>\n",
       "      <td>0</td>\n",
       "      <td>32.30</td>\n",
       "      <td>0.0</td>\n",
       "      <td>0.5</td>\n",
       "      <td>7.26</td>\n",
       "      <td>0.0</td>\n",
       "      <td>1.0</td>\n",
       "      <td>43.56</td>\n",
       "      <td>NaN</td>\n",
       "      <td>NaN</td>\n",
       "      <td>NaN</td>\n",
       "    </tr>\n",
       "  </tbody>\n",
       "</table>\n",
       "</div>"
      ],
      "text/plain": [
       "         VendorID tpep_pickup_datetime tpep_dropoff_datetime  passenger_count  \\\n",
       "2995023         1  2023-01-01 00:02:40   2023-01-01 00:30:36              NaN   \n",
       "2995024         1  2023-01-01 00:57:48   2023-01-01 01:12:34              NaN   \n",
       "2995025         2  2023-01-01 00:55:37   2023-01-01 01:00:41              NaN   \n",
       "2995026         2  2023-01-01 00:43:47   2023-01-01 00:56:12              NaN   \n",
       "2995027         2  2023-01-01 00:34:00   2023-01-01 00:51:00              NaN   \n",
       "\n",
       "         trip_distance  RatecodeID store_and_fwd_flag  PULocationID  \\\n",
       "2995023           0.00         NaN               None           142   \n",
       "2995024           0.00         NaN               None           237   \n",
       "2995025           0.86         NaN               None            24   \n",
       "2995026           5.36         NaN               None            88   \n",
       "2995027           6.03         NaN               None           232   \n",
       "\n",
       "         DOLocationID  payment_type  fare_amount  extra  mta_tax  tip_amount  \\\n",
       "2995023            79             0        20.13    0.0      0.5        0.00   \n",
       "2995024           263             0        12.00    1.0      0.5        2.55   \n",
       "2995025            41             0        12.80    0.0      0.5        2.14   \n",
       "2995026           229             0        24.51    0.0      0.5        4.28   \n",
       "2995027           263             0        32.30    0.0      0.5        7.26   \n",
       "\n",
       "         tolls_amount  improvement_surcharge  total_amount  \\\n",
       "2995023           0.0                    1.0         24.13   \n",
       "2995024           0.0                    1.0         21.55   \n",
       "2995025           0.0                    1.0         16.44   \n",
       "2995026           0.0                    1.0         32.79   \n",
       "2995027           0.0                    1.0         43.56   \n",
       "\n",
       "         congestion_surcharge  airport_fee  Airport_fee  \n",
       "2995023                   NaN          NaN          NaN  \n",
       "2995024                   NaN          NaN          NaN  \n",
       "2995025                   NaN          NaN          NaN  \n",
       "2995026                   NaN          NaN          NaN  \n",
       "2995027                   NaN          NaN          NaN  "
      ]
     },
     "execution_count": 9,
     "metadata": {},
     "output_type": "execute_result"
    }
   ],
   "source": [
    "y_2023.loc[y_2023.passenger_count.isna()].head()"
   ]
  },
  {
   "cell_type": "markdown",
   "metadata": {},
   "source": [
    "Remove some of the bad data:\n",
    "- non-2023 dates\n",
    "- trips with distance 0 or over 100 miles"
   ]
  },
  {
   "cell_type": "code",
   "execution_count": 10,
   "metadata": {},
   "outputs": [
    {
     "name": "stdout",
     "output_type": "stream",
     "text": [
      "memory usage before drop: 4.37 GB\n",
      "memory usage after drop: 3.86 GB\n",
      "memory usage after garbage collection: 2.22 GB\n"
     ]
    }
   ],
   "source": [
    "bad_dates = (y_2023.tpep_pickup_datetime < pd.Timestamp('2023-01-01')) | (y_2023.tpep_pickup_datetime > pd.Timestamp('2024-01-01')) | (y_2023.tpep_dropoff_datetime < pd.Timestamp('2023-01-01')) | (y_2023.tpep_dropoff_datetime > pd.Timestamp('2024-01-01'))\n",
    "bad_dist = (y_2023.trip_distance == 0) | (y_2023.trip_distance > 100)\n",
    "\n",
    "print(f\"memory usage before drop: {get_memory_usage():.2f} GB\")\n",
    "\n",
    "y_2023 = y_2023.drop(y_2023[bad_dates | bad_dist].index)\n",
    "\n",
    "print(f\"memory usage after drop: {get_memory_usage():.2f} GB\")\n",
    "\n",
    "gc.collect()\n",
    "\n",
    "print(f\"memory usage after garbage collection: {get_memory_usage():.2f} GB\")\n"
   ]
  },
  {
   "cell_type": "markdown",
   "metadata": {},
   "source": [
    "The missing data appears to correspond to the same records other than airport fees. Later we'll replace null values for passengers and rate codes with the column mode. We'll remove the store and forward flag, congestion surcharge, and airport fee columns.\n",
    "\n",
    "Next: add features for trip duration, day of pickup, and hour of pickup."
   ]
  },
  {
   "cell_type": "code",
   "execution_count": 11,
   "metadata": {},
   "outputs": [
    {
     "data": {
      "text/plain": [
       "0"
      ]
     },
     "execution_count": 11,
     "metadata": {},
     "output_type": "execute_result"
    }
   ],
   "source": [
    "y_2023['duration'] = ((y_2023.tpep_dropoff_datetime - y_2023.tpep_pickup_datetime) / pd.Timedelta(minutes=1)).round(2)\n",
    "y_2023['day'] = y_2023.tpep_pickup_datetime.dt.day_name()\n",
    "y_2023['hour'] = y_2023.tpep_pickup_datetime.dt.hour\n",
    "gc.collect()"
   ]
  },
  {
   "cell_type": "code",
   "execution_count": 12,
   "metadata": {},
   "outputs": [
    {
     "data": {
      "text/html": [
       "<div>\n",
       "<style scoped>\n",
       "    .dataframe tbody tr th:only-of-type {\n",
       "        vertical-align: middle;\n",
       "    }\n",
       "\n",
       "    .dataframe tbody tr th {\n",
       "        vertical-align: top;\n",
       "    }\n",
       "\n",
       "    .dataframe thead th {\n",
       "        text-align: right;\n",
       "    }\n",
       "</style>\n",
       "<table border=\"1\" class=\"dataframe\">\n",
       "  <thead>\n",
       "    <tr style=\"text-align: right;\">\n",
       "      <th></th>\n",
       "      <th>VendorID</th>\n",
       "      <th>tpep_pickup_datetime</th>\n",
       "      <th>tpep_dropoff_datetime</th>\n",
       "      <th>passenger_count</th>\n",
       "      <th>trip_distance</th>\n",
       "      <th>RatecodeID</th>\n",
       "      <th>store_and_fwd_flag</th>\n",
       "      <th>PULocationID</th>\n",
       "      <th>DOLocationID</th>\n",
       "      <th>payment_type</th>\n",
       "      <th>...</th>\n",
       "      <th>tip_amount</th>\n",
       "      <th>tolls_amount</th>\n",
       "      <th>improvement_surcharge</th>\n",
       "      <th>total_amount</th>\n",
       "      <th>congestion_surcharge</th>\n",
       "      <th>airport_fee</th>\n",
       "      <th>Airport_fee</th>\n",
       "      <th>duration</th>\n",
       "      <th>day</th>\n",
       "      <th>hour</th>\n",
       "    </tr>\n",
       "  </thead>\n",
       "  <tbody>\n",
       "    <tr>\n",
       "      <th>0</th>\n",
       "      <td>2</td>\n",
       "      <td>2023-01-01 00:32:10</td>\n",
       "      <td>2023-01-01 00:40:36</td>\n",
       "      <td>1.0</td>\n",
       "      <td>0.97</td>\n",
       "      <td>1.0</td>\n",
       "      <td>N</td>\n",
       "      <td>161</td>\n",
       "      <td>141</td>\n",
       "      <td>2</td>\n",
       "      <td>...</td>\n",
       "      <td>0.00</td>\n",
       "      <td>0.0</td>\n",
       "      <td>1.0</td>\n",
       "      <td>14.30</td>\n",
       "      <td>2.5</td>\n",
       "      <td>0.00</td>\n",
       "      <td>NaN</td>\n",
       "      <td>8.43</td>\n",
       "      <td>Sunday</td>\n",
       "      <td>0</td>\n",
       "    </tr>\n",
       "    <tr>\n",
       "      <th>1</th>\n",
       "      <td>2</td>\n",
       "      <td>2023-01-01 00:55:08</td>\n",
       "      <td>2023-01-01 01:01:27</td>\n",
       "      <td>1.0</td>\n",
       "      <td>1.10</td>\n",
       "      <td>1.0</td>\n",
       "      <td>N</td>\n",
       "      <td>43</td>\n",
       "      <td>237</td>\n",
       "      <td>1</td>\n",
       "      <td>...</td>\n",
       "      <td>4.00</td>\n",
       "      <td>0.0</td>\n",
       "      <td>1.0</td>\n",
       "      <td>16.90</td>\n",
       "      <td>2.5</td>\n",
       "      <td>0.00</td>\n",
       "      <td>NaN</td>\n",
       "      <td>6.32</td>\n",
       "      <td>Sunday</td>\n",
       "      <td>0</td>\n",
       "    </tr>\n",
       "    <tr>\n",
       "      <th>2</th>\n",
       "      <td>2</td>\n",
       "      <td>2023-01-01 00:25:04</td>\n",
       "      <td>2023-01-01 00:37:49</td>\n",
       "      <td>1.0</td>\n",
       "      <td>2.51</td>\n",
       "      <td>1.0</td>\n",
       "      <td>N</td>\n",
       "      <td>48</td>\n",
       "      <td>238</td>\n",
       "      <td>1</td>\n",
       "      <td>...</td>\n",
       "      <td>15.00</td>\n",
       "      <td>0.0</td>\n",
       "      <td>1.0</td>\n",
       "      <td>34.90</td>\n",
       "      <td>2.5</td>\n",
       "      <td>0.00</td>\n",
       "      <td>NaN</td>\n",
       "      <td>12.75</td>\n",
       "      <td>Sunday</td>\n",
       "      <td>0</td>\n",
       "    </tr>\n",
       "    <tr>\n",
       "      <th>3</th>\n",
       "      <td>1</td>\n",
       "      <td>2023-01-01 00:03:48</td>\n",
       "      <td>2023-01-01 00:13:25</td>\n",
       "      <td>0.0</td>\n",
       "      <td>1.90</td>\n",
       "      <td>1.0</td>\n",
       "      <td>N</td>\n",
       "      <td>138</td>\n",
       "      <td>7</td>\n",
       "      <td>1</td>\n",
       "      <td>...</td>\n",
       "      <td>0.00</td>\n",
       "      <td>0.0</td>\n",
       "      <td>1.0</td>\n",
       "      <td>20.85</td>\n",
       "      <td>0.0</td>\n",
       "      <td>1.25</td>\n",
       "      <td>NaN</td>\n",
       "      <td>9.62</td>\n",
       "      <td>Sunday</td>\n",
       "      <td>0</td>\n",
       "    </tr>\n",
       "    <tr>\n",
       "      <th>4</th>\n",
       "      <td>2</td>\n",
       "      <td>2023-01-01 00:10:29</td>\n",
       "      <td>2023-01-01 00:21:19</td>\n",
       "      <td>1.0</td>\n",
       "      <td>1.43</td>\n",
       "      <td>1.0</td>\n",
       "      <td>N</td>\n",
       "      <td>107</td>\n",
       "      <td>79</td>\n",
       "      <td>1</td>\n",
       "      <td>...</td>\n",
       "      <td>3.28</td>\n",
       "      <td>0.0</td>\n",
       "      <td>1.0</td>\n",
       "      <td>19.68</td>\n",
       "      <td>2.5</td>\n",
       "      <td>0.00</td>\n",
       "      <td>NaN</td>\n",
       "      <td>10.83</td>\n",
       "      <td>Sunday</td>\n",
       "      <td>0</td>\n",
       "    </tr>\n",
       "  </tbody>\n",
       "</table>\n",
       "<p>5 rows × 23 columns</p>\n",
       "</div>"
      ],
      "text/plain": [
       "   VendorID tpep_pickup_datetime tpep_dropoff_datetime  passenger_count  \\\n",
       "0         2  2023-01-01 00:32:10   2023-01-01 00:40:36              1.0   \n",
       "1         2  2023-01-01 00:55:08   2023-01-01 01:01:27              1.0   \n",
       "2         2  2023-01-01 00:25:04   2023-01-01 00:37:49              1.0   \n",
       "3         1  2023-01-01 00:03:48   2023-01-01 00:13:25              0.0   \n",
       "4         2  2023-01-01 00:10:29   2023-01-01 00:21:19              1.0   \n",
       "\n",
       "   trip_distance  RatecodeID store_and_fwd_flag  PULocationID  DOLocationID  \\\n",
       "0           0.97         1.0                  N           161           141   \n",
       "1           1.10         1.0                  N            43           237   \n",
       "2           2.51         1.0                  N            48           238   \n",
       "3           1.90         1.0                  N           138             7   \n",
       "4           1.43         1.0                  N           107            79   \n",
       "\n",
       "   payment_type  ...  tip_amount  tolls_amount  improvement_surcharge  \\\n",
       "0             2  ...        0.00           0.0                    1.0   \n",
       "1             1  ...        4.00           0.0                    1.0   \n",
       "2             1  ...       15.00           0.0                    1.0   \n",
       "3             1  ...        0.00           0.0                    1.0   \n",
       "4             1  ...        3.28           0.0                    1.0   \n",
       "\n",
       "   total_amount  congestion_surcharge  airport_fee  Airport_fee  duration  \\\n",
       "0         14.30                   2.5         0.00          NaN      8.43   \n",
       "1         16.90                   2.5         0.00          NaN      6.32   \n",
       "2         34.90                   2.5         0.00          NaN     12.75   \n",
       "3         20.85                   0.0         1.25          NaN      9.62   \n",
       "4         19.68                   2.5         0.00          NaN     10.83   \n",
       "\n",
       "      day  hour  \n",
       "0  Sunday     0  \n",
       "1  Sunday     0  \n",
       "2  Sunday     0  \n",
       "3  Sunday     0  \n",
       "4  Sunday     0  \n",
       "\n",
       "[5 rows x 23 columns]"
      ]
     },
     "execution_count": 12,
     "metadata": {},
     "output_type": "execute_result"
    }
   ],
   "source": [
    "y_2023.head()"
   ]
  },
  {
   "cell_type": "markdown",
   "metadata": {},
   "source": [
    "Add a feature for tip percent, keeping in mind that tips aren't recorded for cash payments (designated by payment type 2)."
   ]
  },
  {
   "cell_type": "code",
   "execution_count": 13,
   "metadata": {},
   "outputs": [],
   "source": [
    "y_2023['tip_pct'] = (100 * y_2023.tip_amount / (y_2023.total_amount - y_2023.tip_amount)).round(2)"
   ]
  },
  {
   "cell_type": "code",
   "execution_count": 14,
   "metadata": {},
   "outputs": [
    {
     "data": {
      "image/png": "[encoded data removed]",
      "text/plain": [
       "<Figure size 640x480 with 1 Axes>"
      ]
     },
     "metadata": {},
     "output_type": "display_data"
    }
   ],
   "source": [
    "plt.hist(y_2023.tip_pct, bins = 31, range = (0, 30))\n",
    "plt.show()"
   ]
  },
  {
   "cell_type": "markdown",
   "metadata": {},
   "source": [
    "Looking at a histogram of tip percentages, we see a clear delineation at 5% increments, which we expect from a suggested tip option for e-payment.\n",
    "\n",
    "Next: add speed and $ / min features. S / min is our KPI for measuring profitability, determined by (fare + tip - gas) / time, where the price of gas is based on an average NYC price of $3.50 / gallon."
   ]
  },
  {
   "cell_type": "code",
   "execution_count": 15,
   "metadata": {},
   "outputs": [],
   "source": [
    "y_2023['speed'] = (60 * y_2023.trip_distance / y_2023.duration).round(2)\n",
    "y_2023['dollar_min'] = ((y_2023.fare_amount + y_2023.tip_amount - 0.15 * y_2023.trip_distance) / y_2023.duration).round(2)"
   ]
  },
  {
   "cell_type": "code",
   "execution_count": 16,
   "metadata": {},
   "outputs": [
    {
     "data": {
      "image/png": "[encoded data removed]",
      "text/plain": [
       "<Figure size 640x480 with 1 Axes>"
      ]
     },
     "metadata": {},
     "output_type": "display_data"
    }
   ],
   "source": [
    "plt.hist(y_2023.speed, bins = 60, range = (0, 60))\n",
    "plt.show()"
   ]
  },
  {
   "cell_type": "code",
   "execution_count": 17,
   "metadata": {},
   "outputs": [
    {
     "data": {
      "image/png": "[encoded data removed]",
      "text/plain": [
       "<Figure size 640x480 with 1 Axes>"
      ]
     },
     "metadata": {},
     "output_type": "display_data"
    }
   ],
   "source": [
    "plt.hist(y_2023.dollar_min, bins = 36, range = (0, 3.5))\n",
    "plt.show()"
   ]
  },
  {
   "cell_type": "markdown",
   "metadata": {},
   "source": [
    "Distribution of speed and dollars per minute follow a left-skewed distribution, with dollars per minute highly correlated with speed."
   ]
  },
  {
   "cell_type": "markdown",
   "metadata": {},
   "source": [
    "Remove bad data:\n",
    "- trips with unknown pickup or dropoff locations (designated as zones 264 and 265)\n",
    "- 0 and negative fares\n",
    "- trips with duration less than 1 minute or over 6 hours\n",
    "- trips with speed > 60 mph\n",
    "- negative tips"
   ]
  },
  {
   "cell_type": "code",
   "execution_count": 18,
   "metadata": {},
   "outputs": [
    {
     "ename": "",
     "evalue": "",
     "output_type": "error",
     "traceback": [
      "\u001b[1;31mThe Kernel crashed while executing code in the current cell or a previous cell. \n",
      "\u001b[1;31mPlease review the code in the cell(s) to identify a possible cause of the failure. \n",
      "\u001b[1;31mClick <a href='https://aka.ms/vscodeJupyterKernelCrash'>here</a> for more info. \n",
      "\u001b[1;31mView Jupyter <a href='command:jupyter.viewOutput'>log</a> for further details."
     ]
    }
   ],
   "source": [
    "bad_loc = (y_2023.PULocationID > 263) | (y_2023.DOLocationID > 263)\n",
    "y_2023 = y_2023.drop(y_2023[bad_loc].index)\n",
    "gc.collect()"
   ]
  },
  {
   "cell_type": "code",
   "execution_count": null,
   "metadata": {},
   "outputs": [],
   "source": [
    "bad_fare = (y_2023.fare_amount <= 0) | (y_2023.total_amount <= 0)\n",
    "y_2023 = y_2023.drop(y_2023[bad_fare].index)\n",
    "gc.collect()"
   ]
  },
  {
   "cell_type": "code",
   "execution_count": null,
   "metadata": {},
   "outputs": [],
   "source": [
    "bad_time = (y_2023.duration < 1) | (y_2023.duration > 360)\n",
    "y_2023 = y_2023.drop([bad_time].index)\n",
    "gc.collect()"
   ]
  },
  {
   "cell_type": "code",
   "execution_count": null,
   "metadata": {},
   "outputs": [],
   "source": [
    "bad_speed = (y_2023.speed > 60)\n",
    "y_2023 = y_2023.drop([bad_speed].index)\n",
    "gc.collect()"
   ]
  },
  {
   "cell_type": "code",
   "execution_count": null,
   "metadata": {},
   "outputs": [],
   "source": [
    "bad_tip = (y_2023.tip_amount < 0)\n",
    "y_2023 = y_2023.drop([bad_tip].index)\n",
    "gc.collect"
   ]
  }
 ],
 "metadata": {
  "kernelspec": {
   "display_name": "base",
   "language": "python",
   "name": "python3"
  },
  "language_info": {
   "codemirror_mode": {
    "name": "ipython",
    "version": 3
   },
   "file_extension": ".py",
   "mimetype": "text/x-python",
   "name": "python",
   "nbconvert_exporter": "python",
   "pygments_lexer": "ipython3",
   "version": "3.11.7"
  }
 },
 "nbformat": 4,
 "nbformat_minor": 2
}
