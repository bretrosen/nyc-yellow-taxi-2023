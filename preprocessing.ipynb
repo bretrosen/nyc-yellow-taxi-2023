{
 "cells": [
  {
   "cell_type": "code",
   "execution_count": 1,
   "metadata": {},
   "outputs": [],
   "source": [
    "import numpy as np\n",
    "import pandas as pd\n",
    "import pyarrow.parquet as pq\n",
    "import matplotlib as plt\n",
    "import psutil\n",
    "import gc\n",
    "import dask.dataframe as dd"
   ]
  },
  {
   "cell_type": "code",
   "execution_count": 2,
   "metadata": {},
   "outputs": [
    {
     "name": "stdout",
     "output_type": "stream",
     "text": [
      "Initial memory usage: 0.20 GB\n",
      "Memory usage after getting 2023 data in Dask: 0.20 GB\n"
     ]
    }
   ],
   "source": [
    "def get_memory_usage():\n",
    "    process = psutil.Process()\n",
    "    mem_info = process.memory_info()\n",
    "    return mem_info.rss / (1024 ** 3)  # Return memory usage in GB\n",
    "\n",
    "print(f\"Initial memory usage: {get_memory_usage():.2f} GB\")\n",
    "\n",
    "y_2023_dask = dd.read_parquet('./raw_data/y_2023.parquet')\n",
    "\n",
    "# y_2023 = pq.read_table('./raw_data/y_2023.parquet')\n",
    "# y_2023 = y_2023.to_pandas()\n",
    "\n",
    "print(f\"Memory usage after getting 2023 data in Dask: {get_memory_usage():.2f} GB\")\n"
   ]
  },
  {
   "cell_type": "code",
   "execution_count": 3,
   "metadata": {},
   "outputs": [
    {
     "name": "stdout",
     "output_type": "stream",
     "text": [
      "<class 'dask_expr.DataFrame'>\n",
      "Columns: 19 entries, VendorID to airport_fee\n",
      "dtypes: datetime64[us](2), float64(12), int64(4), string(1)"
     ]
    }
   ],
   "source": [
    "y_2023_dask.info()"
   ]
  },
  {
   "cell_type": "code",
   "execution_count": null,
   "metadata": {},
   "outputs": [],
   "source": []
  }
 ],
 "metadata": {
  "kernelspec": {
   "display_name": "base",
   "language": "python",
   "name": "python3"
  },
  "language_info": {
   "codemirror_mode": {
    "name": "ipython",
    "version": 3
   },
   "file_extension": ".py",
   "mimetype": "text/x-python",
   "name": "python",
   "nbconvert_exporter": "python",
   "pygments_lexer": "ipython3",
   "version": "3.11.7"
  }
 },
 "nbformat": 4,
 "nbformat_minor": 2
}
