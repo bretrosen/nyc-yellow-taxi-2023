{
 "cells": [
  {
   "cell_type": "code",
   "execution_count": 1,
   "metadata": {},
   "outputs": [],
   "source": [
    "import pandas as pd\n",
    "import pyarrow.parquet as pq\n",
    "import psutil\n",
    "import gc"
   ]
  },
  {
   "cell_type": "code",
   "execution_count": null,
   "metadata": {},
   "outputs": [],
   "source": [
    "# creating swap file to free memory space\n",
    "# from Linux terminal:\n",
    "# check current swap space\n",
    "# sudo swapon --s\n",
    "# create 8 GB swap file\n",
    "# sudo fallocate -l 8G /swapfile\n",
    "# sudo chmod 600 /swapfile\n",
    "# sudo mkswap /swapfile\n",
    "# sudo swapon /swapfile"
   ]
  },
  {
   "cell_type": "code",
   "execution_count": 2,
   "metadata": {},
   "outputs": [
    {
     "name": "stdout",
     "output_type": "stream",
     "text": [
      "Initial memory usage: 0.17 GB\n",
      "Memory usage after read: 0.17 GB\n",
      "Memory usage after concat: 4.91 GB\n",
      "Memory usage after deletion: 2.64 GB\n",
      "Memory usage after write: 4.88 GB\n"
     ]
    }
   ],
   "source": [
    "def get_memory_usage():\n",
    "    process = psutil.Process()\n",
    "    mem_info = process.memory_info()\n",
    "    return mem_info.rss / (1024 ** 3)  # Return memory usage in GB\n",
    "\n",
    "print(f\"Initial memory usage: {get_memory_usage():.2f} GB\")\n",
    "\n",
    "# list of months to construct file paths\n",
    "months = [f'{i:02d}' for i in range(1, 13)]\n",
    "file_paths = [f'./raw_data/yellow_tripdata_2023-{month}.parquet' for month in months]\n",
    "\n",
    "print(f\"Memory usage after read: {get_memory_usage():.2f} GB\")\n",
    "\n",
    "# read and convert all Parquet files to Pandas DataFrames, then concatenate\n",
    "dfs = [pq.read_table(file).to_pandas() for file in file_paths]\n",
    "y_2023 = pd.concat(dfs, ignore_index=True)\n",
    "\n",
    "print(f\"Memory usage after concat: {get_memory_usage():.2f} GB\")\n",
    "\n",
    "# delete the list of DataFrames to free up memory\n",
    "del dfs\n",
    "gc.collect()\n",
    "\n",
    "print(f\"Memory usage after deletion: {get_memory_usage():.2f} GB\")\n",
    "\n",
    "y_2023.to_parquet('./raw_data/y_2023.parquet')\n",
    "\n",
    "print(f\"Memory usage after write: {get_memory_usage():.2f} GB\")"
   ]
  },
  {
   "cell_type": "code",
   "execution_count": 3,
   "metadata": {},
   "outputs": [
    {
     "name": "stdout",
     "output_type": "stream",
     "text": [
      "memory usage: 4.69 GB\n"
     ]
    }
   ],
   "source": [
    "len(y_2023)\n",
    "print(f\"memory usage: {get_memory_usage():.2f} GB\")"
   ]
  },
  {
   "cell_type": "code",
   "execution_count": 4,
   "metadata": {},
   "outputs": [
    {
     "name": "stdout",
     "output_type": "stream",
     "text": [
      "memory usage: 4.69 GB\n"
     ]
    },
    {
     "ename": "",
     "evalue": "",
     "output_type": "error",
     "traceback": [
      "\u001b[1;31mThe Kernel crashed while executing code in the current cell or a previous cell. \n",
      "\u001b[1;31mPlease review the code in the cell(s) to identify a possible cause of the failure. \n",
      "\u001b[1;31mClick <a href='https://aka.ms/vscodeJupyterKernelCrash'>here</a> for more info. \n",
      "\u001b[1;31mView Jupyter <a href='command:jupyter.viewOutput'>log</a> for further details."
     ]
    }
   ],
   "source": [
    "print(f\"memory usage: {get_memory_usage():.2f} GB\")\n",
    "y_2023.describe()\n",
    "print(f\"memory usage after describe: {get_memory_usage():.2f} GB\")"
   ]
  },
  {
   "cell_type": "code",
   "execution_count": null,
   "metadata": {},
   "outputs": [],
   "source": []
  }
 ],
 "metadata": {
  "kernelspec": {
   "display_name": "base",
   "language": "python",
   "name": "python3"
  },
  "language_info": {
   "codemirror_mode": {
    "name": "ipython",
    "version": 3
   },
   "file_extension": ".py",
   "mimetype": "text/x-python",
   "name": "python",
   "nbconvert_exporter": "python",
   "pygments_lexer": "ipython3",
   "version": "3.11.7"
  }
 },
 "nbformat": 4,
 "nbformat_minor": 2
}
