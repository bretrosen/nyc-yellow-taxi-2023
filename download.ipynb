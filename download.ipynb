{
 "cells": [
  {
   "cell_type": "code",
   "execution_count": 1,
   "metadata": {},
   "outputs": [],
   "source": [
    "from os.path import getsize, exists\n",
    "from urllib.request import urlretrieve\n",
    "import os"
   ]
  },
  {
   "cell_type": "markdown",
   "metadata": {},
   "source": [
    "File location for NYC TLC data as of May 10, 2024."
   ]
  },
  {
   "cell_type": "code",
   "execution_count": 2,
   "metadata": {},
   "outputs": [
    {
     "name": "stdout",
     "output_type": "stream",
     "text": [
      "Downloaded ./raw_data_2/yellow_tripdata_2023-01.parquet to ./raw_data_2 with size 0.05GB\n",
      "Downloaded ./raw_data_2/yellow_tripdata_2023-02.parquet to ./raw_data_2 with size 0.05GB\n",
      "Downloaded ./raw_data_2/yellow_tripdata_2023-03.parquet to ./raw_data_2 with size 0.05GB\n",
      "Downloaded ./raw_data_2/yellow_tripdata_2023-04.parquet to ./raw_data_2 with size 0.05GB\n",
      "Downloaded ./raw_data_2/yellow_tripdata_2023-05.parquet to ./raw_data_2 with size 0.06GB\n",
      "Downloaded ./raw_data_2/yellow_tripdata_2023-06.parquet to ./raw_data_2 with size 0.05GB\n",
      "Downloaded ./raw_data_2/yellow_tripdata_2023-07.parquet to ./raw_data_2 with size 0.05GB\n",
      "Downloaded ./raw_data_2/yellow_tripdata_2023-08.parquet to ./raw_data_2 with size 0.05GB\n",
      "Downloaded ./raw_data_2/yellow_tripdata_2023-09.parquet to ./raw_data_2 with size 0.05GB\n",
      "Downloaded ./raw_data_2/yellow_tripdata_2023-10.parquet to ./raw_data_2 with size 0.06GB\n",
      "Downloaded ./raw_data_2/yellow_tripdata_2023-11.parquet to ./raw_data_2 with size 0.05GB\n",
      "Downloaded ./raw_data_2/yellow_tripdata_2023-12.parquet to ./raw_data_2 with size 0.05GB\n"
     ]
    }
   ],
   "source": [
    "data_dir = './raw_data'\n",
    "fname = 'yellow_tripdata_2023'\n",
    "\n",
    "# create directory if it doesn't exist\n",
    "os.makedirs(data_dir, exist_ok=True)\n",
    "\n",
    "# download all 2023 monthly files, currently uploaded as Parquet\n",
    "for m in range(1, 13):\n",
    "    month = str(m).zfill(2)\n",
    "    out = f\"{data_dir}/{fname}-{month}.parquet\"\n",
    "    url = f\"https://d37ci6vzurychx.cloudfront.net/trip-data/{fname}-{month}.parquet\"\n",
    "\n",
    "    urlretrieve(url, out)\n",
    "\n",
    "    if exists(out):\n",
    "        print(f\"Downloaded {out} to {data_dir} with size {getsize(f'{out}') / 1043741824:.2f}GB\")\n",
    "    else:\n",
    "        print(f\"Failed to download {out}\")"
   ]
  }
 ],
 "metadata": {
  "kernelspec": {
   "display_name": "base",
   "language": "python",
   "name": "python3"
  },
  "language_info": {
   "codemirror_mode": {
    "name": "ipython",
    "version": 3
   },
   "file_extension": ".py",
   "mimetype": "text/x-python",
   "name": "python",
   "nbconvert_exporter": "python",
   "pygments_lexer": "ipython3",
   "version": "3.1.-1"
  }
 },
 "nbformat": 4,
 "nbformat_minor": 2
}
