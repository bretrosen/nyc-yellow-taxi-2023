{
 "cells": [
  {
   "cell_type": "markdown",
   "metadata": {},
   "source": [
    "File location as of May 10, 2024."
   ]
  },
  {
   "cell_type": "code",
   "execution_count": 2,
   "metadata": {},
   "outputs": [],
   "source": [
    "from os.path import getsize, exists\n",
    "from urllib.request import Request, urlopen\n",
    "import os\n",
    "import duckdb"
   ]
  },
  {
   "cell_type": "code",
   "execution_count": 4,
   "metadata": {},
   "outputs": [
    {
     "name": "stdout",
     "output_type": "stream",
     "text": [
      "Downloaded ./raw_data/yellow_tripdata_2023-01.parquet to ./raw_data with size 0.05GB\n",
      "Downloaded ./raw_data/yellow_tripdata_2023-02.parquet to ./raw_data with size 0.05GB\n",
      "Downloaded ./raw_data/yellow_tripdata_2023-03.parquet to ./raw_data with size 0.05GB\n",
      "Downloaded ./raw_data/yellow_tripdata_2023-04.parquet to ./raw_data with size 0.05GB\n",
      "Downloaded ./raw_data/yellow_tripdata_2023-05.parquet to ./raw_data with size 0.06GB\n",
      "Downloaded ./raw_data/yellow_tripdata_2023-06.parquet to ./raw_data with size 0.05GB\n",
      "Downloaded ./raw_data/yellow_tripdata_2023-07.parquet to ./raw_data with size 0.05GB\n",
      "Downloaded ./raw_data/yellow_tripdata_2023-08.parquet to ./raw_data with size 0.05GB\n",
      "Downloaded ./raw_data/yellow_tripdata_2023-09.parquet to ./raw_data with size 0.05GB\n",
      "Downloaded ./raw_data/yellow_tripdata_2023-10.parquet to ./raw_data with size 0.06GB\n",
      "Downloaded ./raw_data/yellow_tripdata_2023-11.parquet to ./raw_data with size 0.05GB\n",
      "Downloaded ./raw_data/yellow_tripdata_2023-12.parquet to ./raw_data with size 0.05GB\n"
     ]
    }
   ],
   "source": [
    "data_dir = './raw_data'\n",
    "fname = 'yellow_tripdata_2023'\n",
    "\n",
    "# create directory if it doesn't exist\n",
    "os.makedirs(data_dir, exist_ok=True)\n",
    "\n",
    "# function to download file with a User-Agent\n",
    "def dl_file(url, out):\n",
    "    req = Request(url, headers = {'User-Agent': 'Mozilla/5.0'})\n",
    "    with urlopen(req) as response, open(out, 'wb') as out_file:\n",
    "        out_file.write(response.read())\n",
    "\n",
    "# download all 2023 monthly files, currently uploaded as Parquet\n",
    "for m in range(1, 13):\n",
    "    month = str(m).zfill(2)\n",
    "    out = f\"{data_dir}/{fname}-{month}.parquet\"\n",
    "    url = f\"https://d37ci6vzurychx.cloudfront.net/trip-data/{fname}-{month}.parquet\"\n",
    "\n",
    "    dl_file(url, out)\n",
    "\n",
    "    if exists(out):\n",
    "        print(f\"Downloaded {out} to {data_dir} with size {getsize(f'{out}') / 1043741824:.2f}GB\")\n",
    "    else:\n",
    "        print(f\"Failed to download {out}\")"
   ]
  },
  {
   "cell_type": "code",
   "execution_count": 7,
   "metadata": {},
   "outputs": [
    {
     "data": {
      "application/vnd.jupyter.widget-view+json": {
       "model_id": "5031d8b186924c958dd9156e5a228e55",
       "version_major": 2,
       "version_minor": 0
      },
      "text/plain": [
       "FloatProgress(value=0.0, layout=Layout(width='auto'), style=ProgressStyle(bar_color='black'))"
      ]
     },
     "metadata": {},
     "output_type": "display_data"
    }
   ],
   "source": [
    "# merge all monthly files into one yearly file with duckdb\n",
    "conn = duckdb.connect()\n",
    "conn.execute('''\n",
    "COPY (SELECT * from './raw_data/*.parquet') TO './raw_data/2023_all.parquet' (FORMAT 'parquet');\n",
    "''')\n",
    "conn.close()\n"
   ]
  },
  {
   "cell_type": "code",
   "execution_count": null,
   "metadata": {},
   "outputs": [],
   "source": []
  }
 ],
 "metadata": {
  "kernelspec": {
   "display_name": "base",
   "language": "python",
   "name": "python3"
  },
  "language_info": {
   "codemirror_mode": {
    "name": "ipython",
    "version": 3
   },
   "file_extension": ".py",
   "mimetype": "text/x-python",
   "name": "python",
   "nbconvert_exporter": "python",
   "pygments_lexer": "ipython3",
   "version": "3.11.7"
  }
 },
 "nbformat": 4,
 "nbformat_minor": 2
}
